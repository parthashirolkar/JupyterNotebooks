{
 "cells": [
  {
   "cell_type": "code",
   "execution_count": 59,
   "metadata": {},
   "outputs": [],
   "source": [
    "import numpy as np\n",
    "import pandas as pd\n",
    "from tensorflow import keras\n",
    "from keras.models import Sequential\n",
    "from keras.layers import Activation, Dense, Dropout\n",
    "from sklearn.metrics import mean_squared_error, mean_absolute_error\n",
    "import matplotlib.pyplot as plt"
   ]
  },
  {
   "cell_type": "code",
   "execution_count": 85,
   "metadata": {},
   "outputs": [],
   "source": [
    "df = pd.read_csv(\"D:\\\\JupyterNotebooks\\\\data\\\\ETH-USD_data.csv\")"
   ]
  },
  {
   "cell_type": "code",
   "execution_count": 86,
   "metadata": {},
   "outputs": [
    {
     "data": {
      "text/plain": [
       "(1568, 6)"
      ]
     },
     "execution_count": 86,
     "metadata": {},
     "output_type": "execute_result"
    }
   ],
   "source": [
    "df.shape"
   ]
  },
  {
   "cell_type": "code",
   "execution_count": null,
   "metadata": {},
   "outputs": [],
   "source": []
  },
  {
   "cell_type": "code",
   "execution_count": 87,
   "metadata": {},
   "outputs": [
    {
     "data": {
      "text/html": [
       "<div>\n",
       "<style scoped>\n",
       "    .dataframe tbody tr th:only-of-type {\n",
       "        vertical-align: middle;\n",
       "    }\n",
       "\n",
       "    .dataframe tbody tr th {\n",
       "        vertical-align: top;\n",
       "    }\n",
       "\n",
       "    .dataframe thead th {\n",
       "        text-align: right;\n",
       "    }\n",
       "</style>\n",
       "<table border=\"1\" class=\"dataframe\">\n",
       "  <thead>\n",
       "    <tr style=\"text-align: right;\">\n",
       "      <th></th>\n",
       "      <th>Date</th>\n",
       "      <th>Open</th>\n",
       "      <th>High</th>\n",
       "      <th>Low</th>\n",
       "      <th>Close</th>\n",
       "      <th>Volume</th>\n",
       "    </tr>\n",
       "  </thead>\n",
       "  <tbody>\n",
       "    <tr>\n",
       "      <th>0</th>\n",
       "      <td>2/23/2022</td>\n",
       "      <td>2639.447021</td>\n",
       "      <td>2741.368408</td>\n",
       "      <td>2587.412842</td>\n",
       "      <td>2590.359619</td>\n",
       "      <td>13382637240</td>\n",
       "    </tr>\n",
       "    <tr>\n",
       "      <th>1</th>\n",
       "      <td>2/22/2022</td>\n",
       "      <td>2572.898682</td>\n",
       "      <td>2648.916748</td>\n",
       "      <td>2510.678711</td>\n",
       "      <td>2639.299316</td>\n",
       "      <td>16360200507</td>\n",
       "    </tr>\n",
       "    <tr>\n",
       "      <th>2</th>\n",
       "      <td>2/21/2022</td>\n",
       "      <td>2627.665527</td>\n",
       "      <td>2752.458496</td>\n",
       "      <td>2568.254395</td>\n",
       "      <td>2573.816162</td>\n",
       "      <td>18646392740</td>\n",
       "    </tr>\n",
       "    <tr>\n",
       "      <th>3</th>\n",
       "      <td>2/20/2022</td>\n",
       "      <td>2763.756592</td>\n",
       "      <td>2763.756592</td>\n",
       "      <td>2585.946289</td>\n",
       "      <td>2628.648438</td>\n",
       "      <td>11641437834</td>\n",
       "    </tr>\n",
       "    <tr>\n",
       "      <th>4</th>\n",
       "      <td>2/19/2022</td>\n",
       "      <td>2784.872803</td>\n",
       "      <td>2826.347900</td>\n",
       "      <td>2707.378418</td>\n",
       "      <td>2763.701172</td>\n",
       "      <td>9774183169</td>\n",
       "    </tr>\n",
       "  </tbody>\n",
       "</table>\n",
       "</div>"
      ],
      "text/plain": [
       "        Date         Open         High          Low        Close       Volume\n",
       "0  2/23/2022  2639.447021  2741.368408  2587.412842  2590.359619  13382637240\n",
       "1  2/22/2022  2572.898682  2648.916748  2510.678711  2639.299316  16360200507\n",
       "2  2/21/2022  2627.665527  2752.458496  2568.254395  2573.816162  18646392740\n",
       "3  2/20/2022  2763.756592  2763.756592  2585.946289  2628.648438  11641437834\n",
       "4  2/19/2022  2784.872803  2826.347900  2707.378418  2763.701172   9774183169"
      ]
     },
     "execution_count": 87,
     "metadata": {},
     "output_type": "execute_result"
    }
   ],
   "source": [
    "df.head()"
   ]
  },
  {
   "cell_type": "code",
   "execution_count": 88,
   "metadata": {},
   "outputs": [],
   "source": [
    "df = df.set_index('Date')\n",
    "df.index = pd.to_datetime(df.index, unit='ns')"
   ]
  },
  {
   "cell_type": "code",
   "execution_count": 89,
   "metadata": {},
   "outputs": [
    {
     "data": {
      "text/html": [
       "<div>\n",
       "<style scoped>\n",
       "    .dataframe tbody tr th:only-of-type {\n",
       "        vertical-align: middle;\n",
       "    }\n",
       "\n",
       "    .dataframe tbody tr th {\n",
       "        vertical-align: top;\n",
       "    }\n",
       "\n",
       "    .dataframe thead th {\n",
       "        text-align: right;\n",
       "    }\n",
       "</style>\n",
       "<table border=\"1\" class=\"dataframe\">\n",
       "  <thead>\n",
       "    <tr style=\"text-align: right;\">\n",
       "      <th></th>\n",
       "      <th>Open</th>\n",
       "      <th>High</th>\n",
       "      <th>Low</th>\n",
       "      <th>Close</th>\n",
       "      <th>Volume</th>\n",
       "    </tr>\n",
       "    <tr>\n",
       "      <th>Date</th>\n",
       "      <th></th>\n",
       "      <th></th>\n",
       "      <th></th>\n",
       "      <th></th>\n",
       "      <th></th>\n",
       "    </tr>\n",
       "  </thead>\n",
       "  <tbody>\n",
       "    <tr>\n",
       "      <th>2022-02-23</th>\n",
       "      <td>2639.447021</td>\n",
       "      <td>2741.368408</td>\n",
       "      <td>2587.412842</td>\n",
       "      <td>2590.359619</td>\n",
       "      <td>13382637240</td>\n",
       "    </tr>\n",
       "    <tr>\n",
       "      <th>2022-02-22</th>\n",
       "      <td>2572.898682</td>\n",
       "      <td>2648.916748</td>\n",
       "      <td>2510.678711</td>\n",
       "      <td>2639.299316</td>\n",
       "      <td>16360200507</td>\n",
       "    </tr>\n",
       "    <tr>\n",
       "      <th>2022-02-21</th>\n",
       "      <td>2627.665527</td>\n",
       "      <td>2752.458496</td>\n",
       "      <td>2568.254395</td>\n",
       "      <td>2573.816162</td>\n",
       "      <td>18646392740</td>\n",
       "    </tr>\n",
       "    <tr>\n",
       "      <th>2022-02-20</th>\n",
       "      <td>2763.756592</td>\n",
       "      <td>2763.756592</td>\n",
       "      <td>2585.946289</td>\n",
       "      <td>2628.648438</td>\n",
       "      <td>11641437834</td>\n",
       "    </tr>\n",
       "    <tr>\n",
       "      <th>2022-02-19</th>\n",
       "      <td>2784.872803</td>\n",
       "      <td>2826.347900</td>\n",
       "      <td>2707.378418</td>\n",
       "      <td>2763.701172</td>\n",
       "      <td>9774183169</td>\n",
       "    </tr>\n",
       "  </tbody>\n",
       "</table>\n",
       "</div>"
      ],
      "text/plain": [
       "                   Open         High          Low        Close       Volume\n",
       "Date                                                                       \n",
       "2022-02-23  2639.447021  2741.368408  2587.412842  2590.359619  13382637240\n",
       "2022-02-22  2572.898682  2648.916748  2510.678711  2639.299316  16360200507\n",
       "2022-02-21  2627.665527  2752.458496  2568.254395  2573.816162  18646392740\n",
       "2022-02-20  2763.756592  2763.756592  2585.946289  2628.648438  11641437834\n",
       "2022-02-19  2784.872803  2826.347900  2707.378418  2763.701172   9774183169"
      ]
     },
     "execution_count": 89,
     "metadata": {},
     "output_type": "execute_result"
    }
   ],
   "source": [
    "df.head()"
   ]
  },
  {
   "cell_type": "code",
   "execution_count": 90,
   "metadata": {},
   "outputs": [],
   "source": [
    "from sklearn.model_selection import train_test_split"
   ]
  },
  {
   "cell_type": "code",
   "execution_count": 103,
   "metadata": {},
   "outputs": [],
   "source": [
    "X = df.drop('Close', axis=1).values\n",
    "y = df['Close'].values\n",
    "\n",
    "X_train,X_test, y_train, y_test = train_test_split(X,y, test_size=0.2, random_state=21)"
   ]
  },
  {
   "cell_type": "code",
   "execution_count": 104,
   "metadata": {},
   "outputs": [],
   "source": [
    "aim = ['Close']"
   ]
  },
  {
   "cell_type": "code",
   "execution_count": 105,
   "metadata": {},
   "outputs": [],
   "source": [
    "def line_plot(line1, line2, label1=None, label2=None, title='', lw=2):\n",
    "    fig, ax = plt.subplots(1, figsize=(13, 7))\n",
    "    ax.plot(line1, label=label1, linewidth=lw)\n",
    "    ax.plot(line2, label=label2, linewidth=lw)\n",
    "    ax.set_ylabel('ETH/USDT', fontsize=14)\n",
    "    ax.set_title(title, fontsize=16)\n",
    "    ax.legend(loc='best', fontsize=16)"
   ]
  },
  {
   "cell_type": "code",
   "execution_count": 106,
   "metadata": {},
   "outputs": [],
   "source": [
    "def normal_zero_base(continuous):\n",
    "    return continuous / continuous[0]+2"
   ]
  },
  {
   "cell_type": "code",
   "execution_count": 107,
   "metadata": {},
   "outputs": [],
   "source": [
    "X_train = normal_zero_base(X_train)\n",
    "X_test = normal_zero_base(X_test)\n",
    "y_train = normal_zero_base(y_train)\n",
    "y_test = normal_zero_base(y_test)"
   ]
  },
  {
   "cell_type": "code",
   "execution_count": 108,
   "metadata": {},
   "outputs": [],
   "source": [
    "X_train = np.expand_dims(X_train,axis=1)\n",
    "X_test = np.expand_dims(X_test, axis=1)"
   ]
  },
  {
   "cell_type": "code",
   "execution_count": 98,
   "metadata": {},
   "outputs": [
    {
     "data": {
      "text/plain": [
       "(1254, 1, 4)"
      ]
     },
     "execution_count": 98,
     "metadata": {},
     "output_type": "execute_result"
    }
   ],
   "source": [
    "X_train.shape"
   ]
  },
  {
   "cell_type": "code",
   "execution_count": 58,
   "metadata": {},
   "outputs": [],
   "source": [
    "from keras.layers import SimpleRNNCell, RNN"
   ]
  },
  {
   "cell_type": "code",
   "execution_count": 100,
   "metadata": {},
   "outputs": [],
   "source": [
    "def build_model(input_data, output_size, neurons, act_func='tanh',dropout=0.1, loss='rmse', optimizer='adam'):\n",
    "    model = Sequential()\n",
    "\n",
    "    model.add(RNN(cell=[SimpleRNNCell(128), SimpleRNNCell(256), SimpleRNNCell(128)]))\n",
    "\n",
    "    model.add(Dropout(dropout))\n",
    "    model.add(Dense(units=output_size))\n",
    "    model.add(Activation(act_func))\n",
    "\n",
    "    model.compile(loss=loss, optimizer=optimizer, metrics=['accuracy'])\n",
    "\n",
    "    return model\n",
    "\n",
    "np.random.seed(64)\n",
    "lstm_neurons = 256\n",
    "epochs=50\n",
    "batch_size=32\n",
    "loss = 'mse'\n",
    "dropout = 0.1\n",
    "optimizer = 'adam'"
   ]
  },
  {
   "cell_type": "code",
   "execution_count": 109,
   "metadata": {},
   "outputs": [
    {
     "name": "stdout",
     "output_type": "stream",
     "text": [
      "Epoch 1/50\n",
      "40/40 [==============================] - 2s 17ms/step - loss: 59.1906 - accuracy: 0.0000e+00 - val_loss: 2.4695 - val_accuracy: 0.0000e+00\n",
      "Epoch 2/50\n",
      "40/40 [==============================] - 0s 9ms/step - loss: 58.8738 - accuracy: 0.0000e+00 - val_loss: 2.4695 - val_accuracy: 0.0000e+00\n",
      "Epoch 3/50\n",
      "40/40 [==============================] - 0s 10ms/step - loss: 58.8737 - accuracy: 0.0000e+00 - val_loss: 2.4695 - val_accuracy: 0.0000e+00\n",
      "Epoch 4/50\n",
      "40/40 [==============================] - 0s 9ms/step - loss: 58.8737 - accuracy: 0.0000e+00 - val_loss: 2.4695 - val_accuracy: 0.0000e+00\n",
      "Epoch 5/50\n",
      "40/40 [==============================] - 0s 10ms/step - loss: 58.8737 - accuracy: 0.0000e+00 - val_loss: 2.4695 - val_accuracy: 0.0000e+00\n",
      "Epoch 6/50\n",
      "40/40 [==============================] - 0s 9ms/step - loss: 58.8737 - accuracy: 0.0000e+00 - val_loss: 2.4695 - val_accuracy: 0.0000e+00\n",
      "Epoch 7/50\n",
      "40/40 [==============================] - 0s 10ms/step - loss: 58.8737 - accuracy: 0.0000e+00 - val_loss: 2.4695 - val_accuracy: 0.0000e+00\n",
      "Epoch 8/50\n",
      "40/40 [==============================] - 0s 9ms/step - loss: 58.8737 - accuracy: 0.0000e+00 - val_loss: 2.4695 - val_accuracy: 0.0000e+00\n",
      "Epoch 9/50\n",
      "40/40 [==============================] - 0s 9ms/step - loss: 58.8737 - accuracy: 0.0000e+00 - val_loss: 2.4695 - val_accuracy: 0.0000e+00\n",
      "Epoch 10/50\n",
      "40/40 [==============================] - 0s 10ms/step - loss: 58.8737 - accuracy: 0.0000e+00 - val_loss: 2.4695 - val_accuracy: 0.0000e+00\n",
      "Epoch 11/50\n",
      "40/40 [==============================] - 0s 9ms/step - loss: 58.8737 - accuracy: 0.0000e+00 - val_loss: 2.4695 - val_accuracy: 0.0000e+00\n",
      "Epoch 12/50\n",
      "40/40 [==============================] - 0s 9ms/step - loss: 58.8737 - accuracy: 0.0000e+00 - val_loss: 2.4695 - val_accuracy: 0.0000e+00\n",
      "Epoch 13/50\n",
      "40/40 [==============================] - 0s 9ms/step - loss: 58.8737 - accuracy: 0.0000e+00 - val_loss: 2.4695 - val_accuracy: 0.0000e+00\n",
      "Epoch 14/50\n",
      "40/40 [==============================] - 0s 9ms/step - loss: 58.8737 - accuracy: 0.0000e+00 - val_loss: 2.4695 - val_accuracy: 0.0000e+00\n",
      "Epoch 15/50\n",
      "40/40 [==============================] - 0s 10ms/step - loss: 58.8737 - accuracy: 0.0000e+00 - val_loss: 2.4695 - val_accuracy: 0.0000e+00\n",
      "Epoch 16/50\n",
      "40/40 [==============================] - 0s 10ms/step - loss: 58.8737 - accuracy: 0.0000e+00 - val_loss: 2.4695 - val_accuracy: 0.0000e+00\n",
      "Epoch 17/50\n",
      "40/40 [==============================] - 0s 11ms/step - loss: 58.8737 - accuracy: 0.0000e+00 - val_loss: 2.4695 - val_accuracy: 0.0000e+00\n",
      "Epoch 18/50\n",
      "40/40 [==============================] - 0s 10ms/step - loss: 58.8737 - accuracy: 0.0000e+00 - val_loss: 2.4695 - val_accuracy: 0.0000e+00\n",
      "Epoch 19/50\n",
      "40/40 [==============================] - 0s 9ms/step - loss: 58.8737 - accuracy: 0.0000e+00 - val_loss: 2.4695 - val_accuracy: 0.0000e+00\n",
      "Epoch 20/50\n",
      "40/40 [==============================] - 0s 11ms/step - loss: 58.8737 - accuracy: 0.0000e+00 - val_loss: 2.4695 - val_accuracy: 0.0000e+00\n",
      "Epoch 21/50\n",
      "40/40 [==============================] - 0s 10ms/step - loss: 58.8737 - accuracy: 0.0000e+00 - val_loss: 2.4695 - val_accuracy: 0.0000e+00\n",
      "Epoch 22/50\n",
      "40/40 [==============================] - 0s 9ms/step - loss: 58.8737 - accuracy: 0.0000e+00 - val_loss: 2.4695 - val_accuracy: 0.0000e+00\n",
      "Epoch 23/50\n",
      "40/40 [==============================] - 0s 9ms/step - loss: 58.8737 - accuracy: 0.0000e+00 - val_loss: 2.4695 - val_accuracy: 0.0000e+00\n",
      "Epoch 24/50\n",
      "40/40 [==============================] - 0s 9ms/step - loss: 58.8737 - accuracy: 0.0000e+00 - val_loss: 2.4695 - val_accuracy: 0.0000e+00\n",
      "Epoch 25/50\n",
      "40/40 [==============================] - 0s 9ms/step - loss: 58.8737 - accuracy: 0.0000e+00 - val_loss: 2.4695 - val_accuracy: 0.0000e+00\n",
      "Epoch 26/50\n",
      "40/40 [==============================] - 0s 9ms/step - loss: 58.8737 - accuracy: 0.0000e+00 - val_loss: 2.4695 - val_accuracy: 0.0000e+00\n",
      "Epoch 27/50\n",
      "40/40 [==============================] - 0s 9ms/step - loss: 58.8737 - accuracy: 0.0000e+00 - val_loss: 2.4695 - val_accuracy: 0.0000e+00\n",
      "Epoch 28/50\n",
      "40/40 [==============================] - 0s 9ms/step - loss: 58.8737 - accuracy: 0.0000e+00 - val_loss: 2.4695 - val_accuracy: 0.0000e+00\n",
      "Epoch 29/50\n",
      "40/40 [==============================] - 0s 9ms/step - loss: 58.8737 - accuracy: 0.0000e+00 - val_loss: 2.4695 - val_accuracy: 0.0000e+00\n",
      "Epoch 30/50\n",
      "40/40 [==============================] - 0s 10ms/step - loss: 58.8737 - accuracy: 0.0000e+00 - val_loss: 2.4695 - val_accuracy: 0.0000e+00\n",
      "Epoch 31/50\n",
      "40/40 [==============================] - 0s 9ms/step - loss: 58.8737 - accuracy: 0.0000e+00 - val_loss: 2.4695 - val_accuracy: 0.0000e+00\n",
      "Epoch 32/50\n",
      "40/40 [==============================] - 0s 9ms/step - loss: 58.8737 - accuracy: 0.0000e+00 - val_loss: 2.4695 - val_accuracy: 0.0000e+00\n",
      "Epoch 33/50\n",
      "40/40 [==============================] - 0s 9ms/step - loss: 58.8737 - accuracy: 0.0000e+00 - val_loss: 2.4695 - val_accuracy: 0.0000e+00\n",
      "Epoch 34/50\n",
      "40/40 [==============================] - 0s 10ms/step - loss: 58.8737 - accuracy: 0.0000e+00 - val_loss: 2.4695 - val_accuracy: 0.0000e+00\n",
      "Epoch 35/50\n",
      "40/40 [==============================] - 0s 10ms/step - loss: 58.8737 - accuracy: 0.0000e+00 - val_loss: 2.4695 - val_accuracy: 0.0000e+00\n",
      "Epoch 36/50\n",
      "40/40 [==============================] - 0s 9ms/step - loss: 58.8737 - accuracy: 0.0000e+00 - val_loss: 2.4695 - val_accuracy: 0.0000e+00\n",
      "Epoch 37/50\n",
      "40/40 [==============================] - 0s 9ms/step - loss: 58.8737 - accuracy: 0.0000e+00 - val_loss: 2.4695 - val_accuracy: 0.0000e+00\n",
      "Epoch 38/50\n",
      "40/40 [==============================] - 0s 10ms/step - loss: 58.8737 - accuracy: 0.0000e+00 - val_loss: 2.4695 - val_accuracy: 0.0000e+00\n",
      "Epoch 39/50\n",
      "40/40 [==============================] - 0s 9ms/step - loss: 58.8737 - accuracy: 0.0000e+00 - val_loss: 2.4695 - val_accuracy: 0.0000e+00\n",
      "Epoch 40/50\n",
      "40/40 [==============================] - 0s 10ms/step - loss: 58.8738 - accuracy: 0.0000e+00 - val_loss: 2.4695 - val_accuracy: 0.0000e+00\n",
      "Epoch 41/50\n",
      "40/40 [==============================] - 0s 9ms/step - loss: 58.8737 - accuracy: 0.0000e+00 - val_loss: 2.4695 - val_accuracy: 0.0000e+00\n",
      "Epoch 42/50\n",
      "40/40 [==============================] - 0s 9ms/step - loss: 58.8737 - accuracy: 0.0000e+00 - val_loss: 2.4695 - val_accuracy: 0.0000e+00\n",
      "Epoch 43/50\n",
      "40/40 [==============================] - 0s 9ms/step - loss: 58.8737 - accuracy: 0.0000e+00 - val_loss: 2.4695 - val_accuracy: 0.0000e+00\n",
      "Epoch 44/50\n",
      "40/40 [==============================] - 0s 9ms/step - loss: 58.8737 - accuracy: 0.0000e+00 - val_loss: 2.4695 - val_accuracy: 0.0000e+00\n",
      "Epoch 45/50\n",
      "40/40 [==============================] - 0s 9ms/step - loss: 58.8737 - accuracy: 0.0000e+00 - val_loss: 2.4695 - val_accuracy: 0.0000e+00\n",
      "Epoch 46/50\n",
      "40/40 [==============================] - 0s 9ms/step - loss: 58.8737 - accuracy: 0.0000e+00 - val_loss: 2.4695 - val_accuracy: 0.0000e+00\n",
      "Epoch 47/50\n",
      "40/40 [==============================] - 0s 9ms/step - loss: 58.8737 - accuracy: 0.0000e+00 - val_loss: 2.4695 - val_accuracy: 0.0000e+00\n",
      "Epoch 48/50\n",
      "40/40 [==============================] - 0s 9ms/step - loss: 58.8737 - accuracy: 0.0000e+00 - val_loss: 2.4695 - val_accuracy: 0.0000e+00\n",
      "Epoch 49/50\n",
      "40/40 [==============================] - 0s 8ms/step - loss: 58.8737 - accuracy: 0.0000e+00 - val_loss: 2.4695 - val_accuracy: 0.0000e+00\n",
      "Epoch 50/50\n",
      "40/40 [==============================] - 0s 9ms/step - loss: 58.8737 - accuracy: 0.0000e+00 - val_loss: 2.4695 - val_accuracy: 0.0000e+00\n"
     ]
    }
   ],
   "source": [
    "model = build_model(X_train,output_size=1, neurons=lstm_neurons, dropout=dropout, loss=loss, optimizer=optimizer)\n",
    "\n",
    "model_fit = model.fit(X_train,y_train, validation_data=(X_test,y_test), epochs=epochs, batch_size=batch_size, shuffle=True)"
   ]
  },
  {
   "cell_type": "code",
   "execution_count": 102,
   "metadata": {},
   "outputs": [
    {
     "data": {
      "image/png": "[encoded data removed]",
      "text/plain": [
       "<Figure size 432x288 with 1 Axes>"
      ]
     },
     "metadata": {
      "needs_background": "light"
     },
     "output_type": "display_data"
    }
   ],
   "source": [
    "plt.plot(model_fit.history['loss'],'r',linewidth=2, label='Training loss')\n",
    "plt.plot(model_fit.history['val_loss'], 'g',linewidth=2, label='Validation loss')\n",
    "plt.title('RNN Neural Networks - ETH Model')\n",
    "plt.xlabel('Epochs numbers')\n",
    "plt.ylabel('MSE numbers')\n",
    "plt.show()"
   ]
  },
  {
   "cell_type": "code",
   "execution_count": 70,
   "metadata": {},
   "outputs": [
    {
     "name": "stdout",
     "output_type": "stream",
     "text": [
      "8/8 [==============================] - 0s 2ms/step\n"
     ]
    }
   ],
   "source": [
    "preds = model.predict(X_test).squeeze()"
   ]
  },
  {
   "cell_type": "code",
   "execution_count": 71,
   "metadata": {},
   "outputs": [
    {
     "data": {
      "text/plain": [
       "5.224773112667716"
      ]
     },
     "execution_count": 71,
     "metadata": {},
     "output_type": "execute_result"
    }
   ],
   "source": [
    "mean_squared_error"
   ]
  },
  {
   "cell_type": "code",
   "execution_count": 73,
   "metadata": {},
   "outputs": [
    {
     "data": {
      "text/plain": [
       "2.2656116883981343"
      ]
     },
     "execution_count": 73,
     "metadata": {},
     "output_type": "execute_result"
    }
   ],
   "source": [
    "mean_absolute_error(y_test,preds)"
   ]
  },
  {
   "cell_type": "code",
   "execution_count": 76,
   "metadata": {},
   "outputs": [
    {
     "data": {
      "image/png": "[encoded data removed]",
      "text/plain": [
       "<Figure size 936x504 with 1 Axes>"
      ]
     },
     "metadata": {
      "needs_background": "light"
     },
     "output_type": "display_data"
    }
   ],
   "source": [
    "line_plot(y_test, preds, 'training', 'test', title='')"
   ]
  },
  {
   "cell_type": "code",
   "execution_count": null,
   "metadata": {},
   "outputs": [],
   "source": []
  }
 ],
 "metadata": {
  "kernelspec": {
   "display_name": "Python 3.10.5 64-bit",
   "language": "python",
   "name": "python3"
  },
  "language_info": {
   "codemirror_mode": {
    "name": "ipython",
    "version": 3
   },
   "file_extension": ".py",
   "mimetype": "text/x-python",
   "name": "python",
   "nbconvert_exporter": "python",
   "pygments_lexer": "ipython3",
   "version": "3.10.5"
  },
  "orig_nbformat": 4,
  "vscode": {
   "interpreter": {
    "hash": "b1f570cb91817614ef5c059314506ddd1665cb272bc6d56c14d46da724343f92"
   }
  }
 },
 "nbformat": 4,
 "nbformat_minor": 2
}
